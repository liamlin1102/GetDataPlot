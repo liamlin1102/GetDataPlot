{
 "cells": [
  {
   "cell_type": "code",
   "execution_count": 2,
   "metadata": {},
   "outputs": [],
   "source": [
    "import pandas as pd \n",
    "import numpy as np\n",
    "import os\n",
    "i=os.listdir('C:/Users/MyUser/Desktop/DATABASE/day/')\n",
    "# 我把我放資料的文件照順序讀取名字，由於會照著日期排，就可以照順序合併每日資料\n",
    "\n",
    "\n",
    "data = pd.DataFrame()\n",
    "data2 = pd.DataFrame()\n",
    "for a in range(0,len(i)):\n",
    "    DD = i[a][:8]\n",
    "    D1 = i[a][:4]\n",
    "    D2 = i[a][4:6]\n",
    "    D3 = i[a][6:8]\n",
    "    \n",
    "    df = pd.read_csv('C:/Users/MyUser/Desktop/DATABASE/Futures/'+DD+'F.csv')\n",
    "    df2 = pd.read_csv('C:/Users/MyUser/Desktop/DATABASE/Y/'+DD+'Y.csv')\n",
    "\n",
    "    p = df.Close.iloc[-1]\n",
    "    o = df.Open.iloc[-1]\n",
    "    h = df.High.iloc[-1]\n",
    "    l = df.Low.iloc[-1]\n",
    "    tv = df.Volume.iloc[-1]\n",
    "    p2 = df2.Close.iloc[-1]\n",
    "    o2 = df2.Open.iloc[-1]\n",
    "    h2 = df2.High.iloc[-1]\n",
    "    l2 = df2.Low.iloc[-1]\n",
    "    tv2 = df2.Volume.iloc[-1]\n",
    "    #     以上把所有資料最後一筆抓起來 \n",
    "    df = pd.DataFrame(data=[[D1+'-'+D2+'-'+D3,o,h,l,p,tv]],columns=[\"Date\",\"Open\",'High',\"Low\",'Close',\"Volume\"])\n",
    "    df2 = pd.DataFrame(data=[[D1+'-'+D2+'-'+D3,o2,h2,l2,p2,tv2]],columns=[\"Date\",\"Open\",'High',\"Low\",'Close',\"Volume\"])\n",
    "    data = data.append(df)\n",
    "#     把日資料合併再一起 輸出成同一筆資料已進行畫圖\n",
    "    data2 = data2.append(df2)\n",
    "    data.to_csv('C:/Users/MyUser/Desktop/DATABASE/Futures/day_F.csv',index=False)\n",
    "    data2.to_csv('C:/Users/MyUser/Desktop/DATABASE/Y/day_Y.csv',index=False)\n",
    "    \n",
    "    \n",
    "\n",
    "\n",
    "    "
   ]
  },
  {
   "cell_type": "markdown",
   "metadata": {},
   "source": []
  }
 ],
 "metadata": {
  "kernelspec": {
   "display_name": "Python 3",
   "language": "python",
   "name": "python3"
  },
  "language_info": {
   "codemirror_mode": {
    "name": "ipython",
    "version": 3
   },
   "file_extension": ".py",
   "mimetype": "text/x-python",
   "name": "python",
   "nbconvert_exporter": "python",
   "pygments_lexer": "ipython3",
   "version": "3.6.5"
  }
 },
 "nbformat": 4,
 "nbformat_minor": 4
}
