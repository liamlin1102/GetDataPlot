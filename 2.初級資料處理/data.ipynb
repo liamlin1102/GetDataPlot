{
 "cells": [
  {
   "cell_type": "code",
   "execution_count": 17,
   "metadata": {},
   "outputs": [
    {
     "name": "stdout",
     "output_type": "stream",
     "text": [
      "請輸入所需要日期 YYYYMMDD20200728\n"
     ]
    }
   ],
   "source": [
    "import pandas as pd\n",
    "import numpy as np\n",
    "import time\n",
    "t = time.time()\n",
    "i = str(input('請輸入所需要日期 YYYYMMDD'))\n",
    "# 輸入日期\n",
    "\n",
    "df=pd.read_csv('C:/Users/MyUser/Desktop/DATABASE/'+i+'.csv', names=(['merchandise','Date','Close','vl','Rprice','Open','High','Low','Volume']) )\n",
    "df['Date'] = pd.to_datetime(df['Date'], format = \"%H%M%S%f\")\n",
    "df['Date'] = df['Date'].astype(str)\n",
    "df['Date'] = df['Date'].str[10:]\n",
    "#讀取日期\n",
    "\n",
    "df1=df.groupby('merchandise')\n",
    "# 透過商品特性分類\n",
    "\n",
    "F = df1.get_group('TXFH0')\n",
    "Y = df1.get_group('i00000')\n",
    "#分類後把特定商品抓出來，當初整體資料抓TXFH0 i00000這兩筆資料 根據情況。 \n",
    "\n",
    "F = F[F.all(1)]\n",
    "Y =  Y[Y.all(1)]\n",
    "# 把所有0去掉\n",
    "\n",
    "F.drop_duplicates(subset='Volume',inplace = True)\n",
    "Y.drop_duplicates(subset='Volume',inplace = True)\n",
    "# 把總交易量重複值剃除以免重複計算\n",
    "\n",
    "\n",
    "F.to_csv('C:/Users/MyUser/Desktop/DATABASE/FUTURES/'+i+'F.csv',index=False)\n",
    "Y.to_csv('C:/Users/MyUser/Desktop/DATABASE/Y/'+i+'Y.csv',index=False)\n"
   ]
  },
  {
   "cell_type": "code",
   "execution_count": null,
   "metadata": {},
   "outputs": [],
   "source": []
  }
 ],
 "metadata": {
  "kernelspec": {
   "display_name": "Python 3",
   "language": "python",
   "name": "python3"
  },
  "language_info": {
   "codemirror_mode": {
    "name": "ipython",
    "version": 3
   },
   "file_extension": ".py",
   "mimetype": "text/x-python",
   "name": "python",
   "nbconvert_exporter": "python",
   "pygments_lexer": "ipython3",
   "version": "3.6.5"
  }
 },
 "nbformat": 4,
 "nbformat_minor": 4
}
