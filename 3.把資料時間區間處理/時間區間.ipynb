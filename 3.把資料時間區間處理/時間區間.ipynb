{
 "cells": [
  {
   "cell_type": "code",
   "execution_count": 58,
   "metadata": {},
   "outputs": [],
   "source": [
    "import pandas as pd\n",
    "path='C:/Users/MyUser/Desktop/DATABASE/'\n",
    "i = pd.date_range('08:45:00', periods=61, freq='5min')\n",
    "# 從8:45開始 每5分鐘一筆時間，透過61期間，會到1:30\n",
    "ts = pd.DataFrame(i,columns=['time'])\n",
    "ts['time'] = ts['time'].astype(str)\n",
    "ts['time'] = ts['time'].str[10:16]\n",
    "ts.to_csv(path+'ft_5min.csv',index=False)\n",
    "# 創造時間區間 看你要什麼時間區間進行輸出 這是5分鐘"
   ]
  },
  {
   "cell_type": "code",
   "execution_count": 59,
   "metadata": {},
   "outputs": [],
   "source": [
    "i = pd.date_range('08:45:00', periods=301, freq='1min')\n",
    "ts = pd.DataFrame(i,columns=['time'])\n",
    "ts['time'] = ts['time'].astype(str)\n",
    "ts['time'] = ts['time'].str[10:16]\n",
    "ts.to_csv(path+'ft_1min.csv',index=False)"
   ]
  },
  {
   "cell_type": "code",
   "execution_count": 60,
   "metadata": {},
   "outputs": [],
   "source": [
    "i = pd.date_range('08:45:00', periods=21, freq='15min')\n",
    "ts = pd.DataFrame(i,columns=['time'])\n",
    "ts['time'] = ts['time'].astype(str)\n",
    "ts['time'] = ts['time'].str[10:16]\n",
    "ts.to_csv(path+'ft_15min.csv',index=False)"
   ]
  },
  {
   "cell_type": "code",
   "execution_count": 61,
   "metadata": {},
   "outputs": [],
   "source": [
    "i = pd.date_range('08:45:00', periods=11, freq='30min')\n",
    "ts = pd.DataFrame(i,columns=['time'])\n",
    "ts['time'] = ts['time'].astype(str)\n",
    "ts['time'] = ts['time'].str[10:16]\n",
    "ts.to_csv(path+'ft_30min.csv',index=False)"
   ]
  },
  {
   "cell_type": "code",
   "execution_count": 62,
   "metadata": {},
   "outputs": [],
   "source": [
    "i = pd.date_range('09:00:00', periods=55, freq='5min')\n",
    "ts = pd.DataFrame(i,columns=['time'])\n",
    "ts['time'] = ts['time'].astype(str)\n",
    "ts['time'] = ts['time'].str[10:16]\n",
    "ts.to_csv(path+'Y_5min.csv',index=False)\n",
    "# 要注意現貨開盤收盤時間不一樣"
   ]
  },
  {
   "cell_type": "code",
   "execution_count": 63,
   "metadata": {},
   "outputs": [],
   "source": [
    "i = pd.date_range('09:00:00', periods=271, freq='1min')\n",
    "ts = pd.DataFrame(i,columns=['time'])\n",
    "ts['time'] = ts['time'].astype(str)\n",
    "ts['time'] = ts['time'].str[10:16]\n",
    "ts.to_csv(path+'Y_1min.csv',index=False)"
   ]
  },
  {
   "cell_type": "code",
   "execution_count": 50,
   "metadata": {},
   "outputs": [],
   "source": [
    "i = pd.date_range('09:00:00', periods=19, freq='15min')\n",
    "ts = pd.DataFrame(i,columns=['time'])\n",
    "ts['time'] = ts['time'].astype(str)\n",
    "ts['time'] = ts['time'].str[10:16]\n",
    "ts.to_csv(path+'Y_15min.csv',index=False)"
   ]
  },
  {
   "cell_type": "code",
   "execution_count": 51,
   "metadata": {},
   "outputs": [],
   "source": [
    "i = pd.date_range('09:00:00', periods= 10, freq='30min')\n",
    "ts = pd.DataFrame(i,columns=['time'])\n",
    "ts['time'] = ts['time'].astype(str)\n",
    "ts['time'] = ts['time'].str[10:16]\n",
    "ts.to_csv(path+'Y_30min.csv',index=False)"
   ]
  }
 ],
 "metadata": {
  "kernelspec": {
   "display_name": "Python 3",
   "language": "python",
   "name": "python3"
  },
  "language_info": {
   "codemirror_mode": {
    "name": "ipython",
    "version": 3
   },
   "file_extension": ".py",
   "mimetype": "text/x-python",
   "name": "python",
   "nbconvert_exporter": "python",
   "pygments_lexer": "ipython3",
   "version": "3.6.5"
  }
 },
 "nbformat": 4,
 "nbformat_minor": 4
}
